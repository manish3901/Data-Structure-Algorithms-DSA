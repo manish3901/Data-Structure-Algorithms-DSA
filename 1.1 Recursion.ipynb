{
 "cells": [
  {
   "cell_type": "code",
   "execution_count": 16,
   "id": "de4537e7",
   "metadata": {},
   "outputs": [],
   "source": [
    "# My first online submission"
   ]
  },
  {
   "cell_type": "code",
   "execution_count": 17,
   "id": "e86a3315",
   "metadata": {},
   "outputs": [],
   "source": [
    "## power of n"
   ]
  },
  {
   "cell_type": "code",
   "execution_count": 18,
   "id": "80da62c9",
   "metadata": {},
   "outputs": [
    {
     "name": "stdout",
     "output_type": "stream",
     "text": [
      "16\n"
     ]
    }
   ],
   "source": [
    "#iterative method\n",
    "def power(base,exponent):\n",
    "    result = base\n",
    "    for i in range(1,exponent):\n",
    "        result *= base\n",
    "    return result\n",
    "print(power(2,4))"
   ]
  },
  {
   "cell_type": "code",
   "execution_count": 19,
   "id": "16d3d784",
   "metadata": {},
   "outputs": [
    {
     "name": "stdout",
     "output_type": "stream",
     "text": [
      "81\n"
     ]
    }
   ],
   "source": [
    "def power(base,exponent):\n",
    "    result = base\n",
    "    i  = 1\n",
    "    while i < exponent:\n",
    "        result *= base\n",
    "        i+=1\n",
    "    return result\n",
    "print(power(3,4))"
   ]
  },
  {
   "cell_type": "code",
   "execution_count": 20,
   "id": "082bbbe9",
   "metadata": {},
   "outputs": [],
   "source": [
    "#Recursive method\n",
    "def power(base,exp):\n",
    "    #unintentional case\n",
    "    assert int(exp)== exp, \"exponent should be integers only!\"\n",
    "    #Base case\n",
    "    if exp == 0:\n",
    "        return 1\n",
    "    elif exp < 0:\n",
    "        return 1 / base * power(base,exp + 1)\n",
    "    else:\n",
    "        #recursive\n",
    "        return base * power(base,exp-1)"
   ]
  },
  {
   "cell_type": "code",
   "execution_count": 21,
   "id": "f21ede29",
   "metadata": {},
   "outputs": [
    {
     "name": "stdout",
     "output_type": "stream",
     "text": [
      "16\n"
     ]
    }
   ],
   "source": [
    "print(power(2,4))"
   ]
  },
  {
   "cell_type": "code",
   "execution_count": 22,
   "id": "637c5738",
   "metadata": {},
   "outputs": [
    {
     "name": "stdout",
     "output_type": "stream",
     "text": [
      "81\n"
     ]
    }
   ],
   "source": [
    "print(power(3,4))"
   ]
  },
  {
   "cell_type": "code",
   "execution_count": 23,
   "id": "242963c1",
   "metadata": {},
   "outputs": [
    {
     "name": "stdout",
     "output_type": "stream",
     "text": [
      "0.00390625\n"
     ]
    }
   ],
   "source": [
    "print(power(4,-4))"
   ]
  },
  {
   "cell_type": "markdown",
   "id": "1c786378",
   "metadata": {},
   "source": [
    "## Thank You!"
   ]
  }
 ],
 "metadata": {
  "kernelspec": {
   "display_name": "Python 3 (ipykernel)",
   "language": "python",
   "name": "python3"
  },
  "language_info": {
   "codemirror_mode": {
    "name": "ipython",
    "version": 3
   },
   "file_extension": ".py",
   "mimetype": "text/x-python",
   "name": "python",
   "nbconvert_exporter": "python",
   "pygments_lexer": "ipython3",
   "version": "3.9.12"
  }
 },
 "nbformat": 4,
 "nbformat_minor": 5
}
