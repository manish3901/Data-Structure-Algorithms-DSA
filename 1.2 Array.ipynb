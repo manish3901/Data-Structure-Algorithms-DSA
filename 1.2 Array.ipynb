{
 "cells": [
  {
   "cell_type": "markdown",
   "id": "7abb893b",
   "metadata": {},
   "source": [
    "## Array"
   ]
  },
  {
   "cell_type": "code",
   "execution_count": 1,
   "id": "797c6ba8",
   "metadata": {},
   "outputs": [],
   "source": [
    "#3dimensional array is made up of bunch of 2d array.\n",
    "# 3d array is basically cube(3 sides)"
   ]
  },
  {
   "cell_type": "markdown",
   "id": "e1faf42d",
   "metadata": {},
   "source": [
    "#### Creating an array:\n",
    "1.  Assign it to a variable.\n",
    "2.  Define the type of elements that it will store\n",
    "3.  Define its size (the maximum numbers of elements)(not reqd now as dynamic array!)"
   ]
  },
  {
   "cell_type": "code",
   "execution_count": 3,
   "id": "6861d578",
   "metadata": {},
   "outputs": [],
   "source": [
    "# In python,we need to import array module to create an array\n",
    "from array import *"
   ]
  },
  {
   "cell_type": "code",
   "execution_count": 4,
   "id": "d3610903",
   "metadata": {},
   "outputs": [],
   "source": [
    "# arrayName = array(typecode,[Initializers])\n",
    "#typecode is data type of array's.\n",
    "# array takes only one datatype unlike lists."
   ]
  },
  {
   "cell_type": "code",
   "execution_count": 5,
   "id": "1bf81012",
   "metadata": {},
   "outputs": [],
   "source": [
    "from array import *\n",
    "arr1 = array('i',[1,2,3,4,5,6])  #'i' for integer"
   ]
  },
  {
   "cell_type": "code",
   "execution_count": 6,
   "id": "cec8ed8e",
   "metadata": {},
   "outputs": [
    {
     "data": {
      "text/plain": [
       "array('i', [1, 2, 3, 4, 5, 6])"
      ]
     },
     "execution_count": 6,
     "metadata": {},
     "output_type": "execute_result"
    }
   ],
   "source": [
    "arr1"
   ]
  },
  {
   "cell_type": "code",
   "execution_count": 11,
   "id": "9b5258e3",
   "metadata": {},
   "outputs": [],
   "source": [
    "arr2 = array('d',[1.3,1.5,1.6])  #'d' for decimal"
   ]
  },
  {
   "cell_type": "code",
   "execution_count": 12,
   "id": "bd3f8b31",
   "metadata": {},
   "outputs": [
    {
     "data": {
      "text/plain": [
       "array('d', [1.3, 1.5, 1.6])"
      ]
     },
     "execution_count": 12,
     "metadata": {},
     "output_type": "execute_result"
    }
   ],
   "source": [
    "arr2"
   ]
  },
  {
   "cell_type": "code",
   "execution_count": 13,
   "id": "089b4d74",
   "metadata": {},
   "outputs": [
    {
     "name": "stdout",
     "output_type": "stream",
     "text": [
      "array('i', [1, 2, 3, 4, 5, 6])\n",
      "array('d', [1.3, 1.5, 1.6])\n"
     ]
    }
   ],
   "source": [
    "arr1 = array('i',[1,2,3,4,5,6])\n",
    "arr2 = array('d',[1.3,1.5,1.6])\n",
    "print(arr1)\n",
    "print(arr2)"
   ]
  },
  {
   "cell_type": "code",
   "execution_count": 14,
   "id": "40aab5f1",
   "metadata": {},
   "outputs": [
    {
     "name": "stdout",
     "output_type": "stream",
     "text": [
      "array('i', [1, 2, 3, 4, 5, 6, 7])\n"
     ]
    }
   ],
   "source": [
    "#insertion  (arry shifts element,does not delete it like lists)\n",
    "arr1.insert(6,7)  #.insert(index,value)\n",
    "print(arr1)"
   ]
  },
  {
   "cell_type": "code",
   "execution_count": 15,
   "id": "63a84cdf",
   "metadata": {},
   "outputs": [
    {
     "name": "stdout",
     "output_type": "stream",
     "text": [
      "array('i', [0, 1, 2, 3, 4, 5, 6, 7])\n"
     ]
    }
   ],
   "source": [
    "arr1.insert(0,0)\n",
    "print(arr1)"
   ]
  },
  {
   "cell_type": "code",
   "execution_count": 16,
   "id": "71626a9e",
   "metadata": {},
   "outputs": [
    {
     "name": "stdout",
     "output_type": "stream",
     "text": [
      "array('i', [0, 1, 9, 2, 3, 4, 5, 6, 7])\n"
     ]
    }
   ],
   "source": [
    "arr1.insert(2,9)\n",
    "print(arr1)"
   ]
  },
  {
   "cell_type": "code",
   "execution_count": 18,
   "id": "8be2ed00",
   "metadata": {},
   "outputs": [
    {
     "name": "stdout",
     "output_type": "stream",
     "text": [
      "1\n",
      "2\n",
      "3\n",
      "4\n",
      "5\n",
      "6\n"
     ]
    }
   ],
   "source": [
    "#array traversal using simple loop\n",
    "arr1 = array('i',[1,2,3,4,5,6])\n",
    "def traverseArray(array):\n",
    "    for i in array:\n",
    "        print(i)\n",
    "traverseArray(arr1)"
   ]
  },
  {
   "cell_type": "code",
   "execution_count": 21,
   "id": "eb82880c",
   "metadata": {},
   "outputs": [
    {
     "name": "stdout",
     "output_type": "stream",
     "text": [
      "2\n"
     ]
    }
   ],
   "source": [
    "# Access array element using indexing\n",
    "arr1 = array('i',[1,2,3,4,5,6])\n",
    "def accessElement(array,index):\n",
    "    if index >= len(array):\n",
    "        print('There is not any element in this index!')\n",
    "    else:\n",
    "        print(array[index])\n",
    "accessElement(arr1,1)"
   ]
  },
  {
   "cell_type": "code",
   "execution_count": 23,
   "id": "5f115f6c",
   "metadata": {},
   "outputs": [
    {
     "name": "stdout",
     "output_type": "stream",
     "text": [
      "6\n"
     ]
    }
   ],
   "source": [
    "accessElement(arr1,5)"
   ]
  },
  {
   "cell_type": "code",
   "execution_count": 22,
   "id": "ffb357e5",
   "metadata": {},
   "outputs": [
    {
     "name": "stdout",
     "output_type": "stream",
     "text": [
      "There is not any element in this index!\n"
     ]
    }
   ],
   "source": [
    "accessElement(arr1,6)"
   ]
  },
  {
   "cell_type": "code",
   "execution_count": 24,
   "id": "a816012e",
   "metadata": {},
   "outputs": [],
   "source": [
    "# searching an element inside an array(finding index from value)\n",
    "arr1 = array('i',[1,2,3,4,5,6])\n",
    "\n",
    "def searchInArray(array,value):\n",
    "    for i in array:\n",
    "        if i == value:\n",
    "            return arr1.index(value)\n",
    "    return 'The element does not exist in this array!'"
   ]
  },
  {
   "cell_type": "code",
   "execution_count": 25,
   "id": "cb52b295",
   "metadata": {},
   "outputs": [
    {
     "name": "stdout",
     "output_type": "stream",
     "text": [
      "2\n"
     ]
    }
   ],
   "source": [
    "print(searchInArray(arr1,3))"
   ]
  },
  {
   "cell_type": "code",
   "execution_count": 26,
   "id": "eac3fec0",
   "metadata": {},
   "outputs": [
    {
     "name": "stdout",
     "output_type": "stream",
     "text": [
      "5\n"
     ]
    }
   ],
   "source": [
    "print(searchInArray(arr1,6))"
   ]
  },
  {
   "cell_type": "code",
   "execution_count": 27,
   "id": "2ce9f37d",
   "metadata": {},
   "outputs": [
    {
     "name": "stdout",
     "output_type": "stream",
     "text": [
      "The element does not exist in this array!\n"
     ]
    }
   ],
   "source": [
    "print(searchInArray(arr1,7))"
   ]
  },
  {
   "cell_type": "code",
   "execution_count": 28,
   "id": "fb315b16",
   "metadata": {},
   "outputs": [
    {
     "name": "stdout",
     "output_type": "stream",
     "text": [
      "array('i', [2, 3, 4, 5, 6])\n"
     ]
    }
   ],
   "source": [
    "# element deletion\n",
    "arr1 = array('i',[1,2,3,4,5,6])\n",
    "\n",
    "arr1.remove(1)  # .remove(value)\n",
    "print(arr1)"
   ]
  },
  {
   "cell_type": "code",
   "execution_count": 30,
   "id": "2d48a788",
   "metadata": {},
   "outputs": [
    {
     "name": "stdout",
     "output_type": "stream",
     "text": [
      "array('i', [1, 2, 3, 5, 6])\n"
     ]
    }
   ],
   "source": [
    "arr1 = array('i',[1,2,3,4,5,6])\n",
    "arr1.remove(4)\n",
    "print(arr1)"
   ]
  },
  {
   "cell_type": "code",
   "execution_count": 54,
   "id": "c907796c",
   "metadata": {},
   "outputs": [
    {
     "name": "stdout",
     "output_type": "stream",
     "text": [
      "1\n",
      "2\n",
      "3\n",
      "4\n",
      "5\n",
      "Step 2\n",
      "1\n",
      "4\n",
      "Step 3\n",
      "array('i', [1, 2, 3, 4, 5, 6])\n",
      "Step 4\n",
      "array('i', [1, 2, 3, 11, 4, 5, 6])\n",
      "Step 5\n",
      "array('i', [1, 2, 3, 11, 4, 5, 6, 10, 11, 12])\n",
      "Step 6\n",
      "array('i', [1, 2, 3, 11, 4, 5, 6, 10, 11, 12, 20, 21, 22])\n",
      "Step 7\n",
      "array('i', [1, 2, 3, 4, 5, 6, 10, 11, 12, 20, 21, 22])\n",
      "Step 8\n",
      "array('i', [1, 2, 3, 4, 5, 6, 10, 11, 12, 20, 21])\n",
      "Step 9\n",
      "10\n",
      "Step 10\n",
      "array('i', [21, 20, 12, 11, 10, 6, 5, 4, 3, 2, 1])\n",
      "Step 11\n",
      "(2436574909936, 11)\n",
      "Step 12\n",
      "2\n",
      "Step 14\n",
      "[21, 20, 12, 11, 10, 6, 5, 4, 3, 2, 1, 11]\n",
      "Step 16\n",
      "array('i', [20, 12, 11])\n",
      "array('i', [21, 20, 12, 11, 10, 6, 5, 4, 3, 2, 1, 11])\n"
     ]
    }
   ],
   "source": [
    "# Operations on array\n",
    "\n",
    "from array import *\n",
    "#1.create an array and traverse\n",
    "my_array = array('i',[1,2,3,4,5])\n",
    "#traverse\n",
    "for i in my_array:\n",
    "    print(i)\n",
    "    \n",
    "#2.Access individual elements through indexes\n",
    "print('Step 2')\n",
    "print(my_array[0])\n",
    "print(my_array[3])\n",
    "#3. Append any value to the array using append() method\n",
    "\n",
    "print('Step 3')\n",
    "my_array.append(6) #.append(value) adds at last location.\n",
    "print(my_array)\n",
    "\n",
    "#4. Insert value in an array using insert() method\n",
    "print('Step 4')\n",
    "my_array.insert(3,11) #.index(index,value)\n",
    "print(my_array)\n",
    "\n",
    "#5. Extend python array using extend() method\n",
    "print('Step 5')\n",
    "my_array1 = array('i',[10,11,12])\n",
    "my_array.extend(my_array1)\n",
    "print(my_array)\n",
    "\n",
    "#6. Add items from list into array using fromlist() method\n",
    "print('Step 6')\n",
    "tempList = [20,21,22]\n",
    "my_array.fromlist(tempList)\n",
    "print(my_array)\n",
    "\n",
    "#7. Remove any array element using remove() method\n",
    "print('Step 7')\n",
    "my_array.remove(11)  #.remove(value) (first occurence)\n",
    "print(my_array)\n",
    "\n",
    "#8. Remove last array element using pop() method\n",
    "print('Step 8')\n",
    "my_array.pop()\n",
    "print(my_array)\n",
    "\n",
    "#9. Fetch any  element through its index using index() method\n",
    "print('Step 9')\n",
    "print(my_array.index(21))  #.index(value)\n",
    "\n",
    "#10. Reverse a python array  using reverse() method\n",
    "print('Step 10')\n",
    "my_array.reverse()\n",
    "print(my_array)\n",
    "\n",
    "#11. Get array buffer information through buffer_info() method\n",
    "print('Step 11')\n",
    "print(my_array.buffer_info())\n",
    "\n",
    "#12. Check for number of occurences of an element using count() mehtod\n",
    "print('Step 12')\n",
    "my_array.append(11)\n",
    "print(my_array.count(11))\n",
    "\n",
    "#13. Convert array to string using tostring() method\n",
    "#print('Step 13')\n",
    "# tostring & fromstring method has been removed\n",
    "\n",
    "#14.Convert array to a python list with same elements using tolist() method\n",
    "print('Step 14')\n",
    "print(my_array.tolist())\n",
    "\n",
    "#15. Append a string to char array using fromstring() method\n",
    "#print('Step 15')\n",
    "# fromstring() removed from python.\n",
    "\n",
    "#16. Slice Elements from an array\n",
    "print('Step 16')\n",
    "print(my_array[1:4])\n",
    "print(my_array[:])"
   ]
  },
  {
   "cell_type": "code",
   "execution_count": null,
   "id": "6ac303c1",
   "metadata": {},
   "outputs": [],
   "source": [
    "# Multidimensional arry"
   ]
  },
  {
   "cell_type": "code",
   "execution_count": null,
   "id": "af05aec6",
   "metadata": {},
   "outputs": [],
   "source": [
    "# 2d array\n",
    "# Day 1 - 11, 15, 10, 6\n",
    "# Day 2 - 10, 14, 11, 5\n",
    "# Day 3 - 12, 17, 12, 8\n",
    "# Day 4 - 15, 18, 14, 9"
   ]
  },
  {
   "cell_type": "code",
   "execution_count": 55,
   "id": "99e7a3f1",
   "metadata": {},
   "outputs": [
    {
     "name": "stdout",
     "output_type": "stream",
     "text": [
      "[[11 15 10  6]\n",
      " [10 14 11  5]\n",
      " [12 17 12  8]\n",
      " [15 18 14  9]]\n"
     ]
    }
   ],
   "source": [
    "# numpy module is best for multidimensional array\n",
    "import numpy as np\n",
    "#2d array using numpy\n",
    "twoDArray = np.array([[11, 15, 10, 6],[10, 14, 11, 5],[12, 17, 12, 8],[15, 18, 14, 9]])\n",
    "print(twoDArray)"
   ]
  },
  {
   "cell_type": "code",
   "execution_count": 69,
   "id": "95fedbc3",
   "metadata": {},
   "outputs": [
    {
     "name": "stdout",
     "output_type": "stream",
     "text": [
      "[[11 15 10  6]\n",
      " [ 1  2  3  4]\n",
      " [10 14 11  5]\n",
      " [12 17 12  8]\n",
      " [15 18 14  9]]\n"
     ]
    }
   ],
   "source": [
    "#insertion in 2d array\n",
    "#np.insert(arr,object,value,axis)\n",
    "newTwoDArray = np.insert(twoDArray,1,[1,2,3,4],axis= 0) \n",
    "print(newTwoDArray)"
   ]
  },
  {
   "cell_type": "code",
   "execution_count": 67,
   "id": "857ec694",
   "metadata": {},
   "outputs": [
    {
     "name": "stdout",
     "output_type": "stream",
     "text": [
      "[[11 15 10  6]\n",
      " [10 14 11  5]\n",
      " [12 17 12  8]\n",
      " [15 18 14  9]\n",
      " [ 1  2  3  4]]\n"
     ]
    }
   ],
   "source": [
    "newTwoDArray = np.append(twoDArray,[[1,2,3,4]],axis = 0) \n",
    "print(newTwoDArray)"
   ]
  },
  {
   "cell_type": "code",
   "execution_count": 70,
   "id": "a295d5bc",
   "metadata": {},
   "outputs": [
    {
     "name": "stdout",
     "output_type": "stream",
     "text": [
      "[[11 15 10  6]\n",
      " [10 14 11  5]\n",
      " [12 17 12  8]\n",
      " [15 18 14  9]]\n",
      "11\n"
     ]
    }
   ],
   "source": [
    "#accessing element in 2d array\n",
    "twoDArray = np.array([[11, 15, 10, 6],[10, 14, 11, 5],[12, 17, 12, 8],[15, 18, 14, 9]])\n",
    "print(twoDArray)\n",
    "\n",
    "def accessElements(array,rowIndex,colIndex):\n",
    "    #when you put [0],it vl give No. of columns.\n",
    "    if rowIndex >= len(array) or colIndex >= len(array[0]): #like here\n",
    "        print('Incorrect index')\n",
    "    else:\n",
    "        print(array[rowIndex][colIndex])\n",
    "\n",
    "accessElements(twoDArray,1,2)"
   ]
  },
  {
   "cell_type": "code",
   "execution_count": 71,
   "id": "699da11f",
   "metadata": {},
   "outputs": [
    {
     "name": "stdout",
     "output_type": "stream",
     "text": [
      "8\n"
     ]
    }
   ],
   "source": [
    "accessElements(twoDArray,2,3)"
   ]
  },
  {
   "cell_type": "code",
   "execution_count": 73,
   "id": "f8a3a092",
   "metadata": {},
   "outputs": [
    {
     "name": "stdout",
     "output_type": "stream",
     "text": [
      "[[11 15 10  6]\n",
      " [10 14 11  5]\n",
      " [12 17 12  8]\n",
      " [15 18 14  9]]\n",
      "11\n",
      "15\n",
      "10\n",
      "6\n",
      "10\n",
      "14\n",
      "11\n",
      "5\n",
      "12\n",
      "17\n",
      "12\n",
      "8\n",
      "15\n",
      "18\n",
      "14\n",
      "9\n"
     ]
    }
   ],
   "source": [
    "# traversel - 2d array\n",
    "twoDArray = np.array([[11, 15, 10, 6],[10, 14, 11, 5],[12, 17, 12, 8],[15, 18, 14, 9]])\n",
    "print(twoDArray)\n",
    "\n",
    "def traverseTDArray(array):\n",
    "    for i in range(len(array)): #for rows\n",
    "        #if you do len(array[0]),it vl give len of columns\n",
    "        for j in range(len(array[0])):\n",
    "            print(array[i][j])\n",
    "traverseTDArray(twoDArray)"
   ]
  },
  {
   "cell_type": "code",
   "execution_count": 76,
   "id": "b7c4a486",
   "metadata": {},
   "outputs": [
    {
     "name": "stdout",
     "output_type": "stream",
     "text": [
      "[[11 15 10  6]\n",
      " [10 14 11  5]\n",
      " [12 17 12  8]\n",
      " [15 18 14  9]]\n",
      "The value is located at index 1 1\n"
     ]
    }
   ],
   "source": [
    "#Searching for an element in 2d array (using linear search)\n",
    "twoDArray = np.array([[11, 15, 10, 6],[10, 14, 11, 5],[12, 17, 12, 8],[15, 18, 14, 9]])\n",
    "print(twoDArray)\n",
    "\n",
    "def searchTDArray(array,value):\n",
    "    #using linear search\n",
    "    for i in range(len(array)):\n",
    "        for j in range(len(array[0])):\n",
    "            if array[i][j] == value:\n",
    "                return 'The value is located at index '+ str(i) +\" \"+ str(j)\n",
    "    return 'The element is not found!'\n",
    "print(searchTDArray(twoDArray,14))"
   ]
  },
  {
   "cell_type": "code",
   "execution_count": 77,
   "id": "f44e348d",
   "metadata": {},
   "outputs": [
    {
     "name": "stdout",
     "output_type": "stream",
     "text": [
      "The element is not found!\n"
     ]
    }
   ],
   "source": [
    "print(searchTDArray(twoDArray,55))"
   ]
  },
  {
   "cell_type": "code",
   "execution_count": 86,
   "id": "f42a00fc",
   "metadata": {},
   "outputs": [
    {
     "name": "stdout",
     "output_type": "stream",
     "text": [
      "[[11 15 10  6]\n",
      " [10 14 11  5]\n",
      " [12 17 12  8]\n",
      " [15 18 14  9]]\n",
      "\n",
      "[[11 15 10  6]\n",
      " [10 14 11  5]\n",
      " [12 17 12  8]]\n"
     ]
    }
   ],
   "source": [
    "# Deletion - 2d arry using numpy\n",
    "import numpy as np\n",
    "twoDArray = np.array([[11, 15, 10, 6],[10, 14, 11, 5],[12, 17, 12, 8],[15, 18, 14, 9]])\n",
    "print(twoDArray)\n",
    "\n",
    "newTDArray = np.delete(twoDArray,3,axis=0)  #np.delete(arr,obj,axis)\n",
    "print()\n",
    "print(newTDArray)"
   ]
  },
  {
   "cell_type": "markdown",
   "id": "741d1b0e",
   "metadata": {},
   "source": [
    "### When to use/avoid Arrays\n",
    "### When to use\n",
    "- To store multiple variables of same data type\n",
    "- Random access\n",
    "### When to avoid\n",
    "- Same data type elements\n",
    "- Reserve memory"
   ]
  },
  {
   "cell_type": "markdown",
   "id": "2b29abdd",
   "metadata": {},
   "source": [
    "### Summary\n",
    "- Arrays are extremely powerful data structures \n",
    "- Memory is allocated immediately \n",
    "- Elements are located in contiguous locations in memory \n",
    "- Indices start at 0 \n",
    "- Inserting elements \n",
    "- Removing elements. \n",
    "- Finding elements"
   ]
  },
  {
   "cell_type": "code",
   "execution_count": 87,
   "id": "61c66f23",
   "metadata": {},
   "outputs": [],
   "source": [
    "### Thank you!"
   ]
  },
  {
   "cell_type": "code",
   "execution_count": null,
   "id": "04dd4cd2",
   "metadata": {},
   "outputs": [],
   "source": []
  }
 ],
 "metadata": {
  "kernelspec": {
   "display_name": "Python 3 (ipykernel)",
   "language": "python",
   "name": "python3"
  },
  "language_info": {
   "codemirror_mode": {
    "name": "ipython",
    "version": 3
   },
   "file_extension": ".py",
   "mimetype": "text/x-python",
   "name": "python",
   "nbconvert_exporter": "python",
   "pygments_lexer": "ipython3",
   "version": "3.9.12"
  }
 },
 "nbformat": 4,
 "nbformat_minor": 5
}
