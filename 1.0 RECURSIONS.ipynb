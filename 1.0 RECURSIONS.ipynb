{
 "cells": [
  {
   "cell_type": "markdown",
   "id": "945dccc5",
   "metadata": {},
   "source": [
    "# DATA STRUCTURES & ALGORITHMS"
   ]
  },
  {
   "cell_type": "markdown",
   "id": "5d6e91b3",
   "metadata": {},
   "source": [
    "---\n",
    "**NOTE --> Error outputs are intentional to show results.**"
   ]
  },
  {
   "cell_type": "code",
   "execution_count": 1,
   "id": "906a726f",
   "metadata": {},
   "outputs": [
    {
     "name": "stdout",
     "output_type": "stream",
     "text": [
      "All dolls are opened\n"
     ]
    }
   ],
   "source": [
    "#### Russian Doll recursive function ###\n",
    "\n",
    "def openRussianDoll(doll):\n",
    "    if doll == 1:\n",
    "        print(\"All dolls are opened\")\n",
    "    else:\n",
    "        openRussianDoll(doll-1)\n",
    "\n",
    "\n",
    "openRussianDoll(4)\n",
    "\n",
    "\n",
    "# def recursionMethod(parameters):\n",
    "#     if  exit from condition satisfied:\n",
    "#         return some value\n",
    "#     else:\n",
    "#         recursionMethod(modified parameters)"
   ]
  },
  {
   "cell_type": "code",
   "execution_count": 5,
   "id": "f2a24f9d",
   "metadata": {},
   "outputs": [
    {
     "name": "stdout",
     "output_type": "stream",
     "text": [
      "I am the fourth Method\n",
      "I am the third Method\n",
      "I am the second Method\n",
      "I am the first Method\n"
     ]
    }
   ],
   "source": [
    "def firstMethod():\n",
    "    secondMethod()\n",
    "    print(\"I am the first Method\")\n",
    "\n",
    "def secondMethod():\n",
    "    thirdMethod()\n",
    "    print(\"I am the second Method\")\n",
    "\n",
    "def thirdMethod():\n",
    "    fourthMethod()\n",
    "    print(\"I am the third Method\")\n",
    "\n",
    "def fourthMethod():\n",
    "    print(\"I am the fourth Method\")\n",
    "\n",
    "\n",
    "firstMethod()"
   ]
  },
  {
   "cell_type": "code",
   "execution_count": 1,
   "id": "2edca845",
   "metadata": {},
   "outputs": [],
   "source": [
    "def recursiveMethod(n):\n",
    "    #BASE CASE\n",
    "    if n < 1:\n",
    "        print('n is less than 1')\n",
    "    #RECURSIVE CASE\n",
    "    else:\n",
    "        recursiveMethod(n-1)\n",
    "        print(n)"
   ]
  },
  {
   "cell_type": "code",
   "execution_count": 2,
   "id": "5d1f3a2a",
   "metadata": {},
   "outputs": [
    {
     "name": "stdout",
     "output_type": "stream",
     "text": [
      "n is less than 1\n",
      "1\n",
      "2\n",
      "3\n",
      "4\n"
     ]
    }
   ],
   "source": [
    "recursiveMethod(4)"
   ]
  },
  {
   "cell_type": "code",
   "execution_count": 3,
   "id": "07ca8c8b",
   "metadata": {},
   "outputs": [],
   "source": [
    "#BASE CASE --> helps you end loop,\n",
    "#RECURSIVE CASE --> divide prob into subproblems untill it gets so small that it becomes base case."
   ]
  },
  {
   "cell_type": "markdown",
   "id": "ae67fa2d",
   "metadata": {},
   "source": [
    "### Any problem that can be solved using Recursion,can also be solved using iterations(loops etc)"
   ]
  },
  {
   "cell_type": "code",
   "execution_count": 4,
   "id": "6a93793e",
   "metadata": {},
   "outputs": [],
   "source": [
    "#Same problem with recursion & iteration method"
   ]
  },
  {
   "cell_type": "code",
   "execution_count": null,
   "id": "b3876c3f",
   "metadata": {},
   "outputs": [],
   "source": [
    "#Q1"
   ]
  },
  {
   "cell_type": "code",
   "execution_count": 9,
   "id": "8ae9699b",
   "metadata": {},
   "outputs": [
    {
     "name": "stdout",
     "output_type": "stream",
     "text": [
      "4\n"
     ]
    }
   ],
   "source": [
    "# Solving using iteration:\n",
    "def powerOfTwo(n):\n",
    "    #Initial conditions:\n",
    "    i = 0\n",
    "    power = 1\n",
    "    #while loop initial condition\n",
    "    while n > i:\n",
    "        power = power * 2\n",
    "        #Compound statement\n",
    "        i = i + 1 \n",
    "    return power\n",
    "print(powerOfTwo(2))"
   ]
  },
  {
   "cell_type": "code",
   "execution_count": 11,
   "id": "334d7401",
   "metadata": {},
   "outputs": [],
   "source": [
    "# Solving using RECURSION:\n",
    "def powerOfTwo(n):\n",
    "    #Base case\n",
    "    if n==0:\n",
    "        return 1\n",
    "    #Recursive Case\n",
    "    else:\n",
    "        power = powerOfTwo(n-1)\n",
    "        return power * 2"
   ]
  },
  {
   "cell_type": "code",
   "execution_count": 12,
   "id": "3e9e28e8",
   "metadata": {},
   "outputs": [
    {
     "name": "stdout",
     "output_type": "stream",
     "text": [
      "4\n"
     ]
    }
   ],
   "source": [
    "print(powerOfTwo(2))"
   ]
  },
  {
   "cell_type": "code",
   "execution_count": null,
   "id": "88f1b513",
   "metadata": {},
   "outputs": [],
   "source": [
    "#Q2"
   ]
  },
  {
   "cell_type": "markdown",
   "id": "7d8179c9",
   "metadata": {},
   "source": [
    "**FACTORIAL**\n",
    "- It is the product of all positive integers less than or equal to n.\n",
    "- Only positive integers.\n",
    "- Denoted by n!\n",
    "- 0! = 1 , 1! = 1"
   ]
  },
  {
   "cell_type": "code",
   "execution_count": 1,
   "id": "19c45bb6",
   "metadata": {},
   "outputs": [],
   "source": [
    "# FACTORIAL\n",
    "def factorial(n):\n",
    "    print(n)\n",
    "    return n * factorial(n-1)"
   ]
  },
  {
   "cell_type": "code",
   "execution_count": 2,
   "id": "8dddc414",
   "metadata": {},
   "outputs": [],
   "source": [
    "#Without Base case,it will lead to infinite loop.\n",
    "#factorial(3)"
   ]
  },
  {
   "cell_type": "code",
   "execution_count": 3,
   "id": "a0ed0165",
   "metadata": {},
   "outputs": [],
   "source": [
    "# We have a bug in our function.\n",
    "#maximum recursion depth exceeded while calling a Python object.\n",
    "# We went for infinite loop as we have not given base case to stop infinite loop."
   ]
  },
  {
   "cell_type": "code",
   "execution_count": 4,
   "id": "2320714d",
   "metadata": {},
   "outputs": [],
   "source": [
    "#We can increase stack memory recursion limit.\n",
    "import sys\n",
    "sys.setrecursionlimit(1000)\n",
    "def factorial(n):\n",
    "    print(n)\n",
    "    return n * factorial(n-1)"
   ]
  },
  {
   "cell_type": "code",
   "execution_count": 5,
   "id": "8b4f27c3",
   "metadata": {},
   "outputs": [],
   "source": [
    "#Without Base case,it will lead to infinite loop.\n",
    "#factorial(3)"
   ]
  },
  {
   "cell_type": "code",
   "execution_count": 23,
   "id": "b6ff3739",
   "metadata": {},
   "outputs": [],
   "source": [
    "#lets add base case\n",
    "def factorial(n):\n",
    "    #base case\n",
    "    if n in [0,1]:       #same as n in (0,1),you can use if,elif for base as well.\n",
    "        return 1\n",
    "    #recursive case\n",
    "    else:\n",
    "        return n * factorial(n-1)"
   ]
  },
  {
   "cell_type": "code",
   "execution_count": 24,
   "id": "09da50ce",
   "metadata": {},
   "outputs": [
    {
     "data": {
      "text/plain": [
       "6"
      ]
     },
     "execution_count": 24,
     "metadata": {},
     "output_type": "execute_result"
    }
   ],
   "source": [
    "factorial(3)"
   ]
  },
  {
   "cell_type": "code",
   "execution_count": 25,
   "id": "dfe2522b",
   "metadata": {},
   "outputs": [
    {
     "data": {
      "text/plain": [
       "24"
      ]
     },
     "execution_count": 25,
     "metadata": {},
     "output_type": "execute_result"
    }
   ],
   "source": [
    "factorial(4)"
   ]
  },
  {
   "cell_type": "code",
   "execution_count": 26,
   "id": "9ac8507c",
   "metadata": {},
   "outputs": [],
   "source": [
    "# Is there anything you can do to improve on edge cases ?\n",
    "# ALWAYS TEST CONSTRAINTS."
   ]
  },
  {
   "cell_type": "code",
   "execution_count": 31,
   "id": "9cedb79b",
   "metadata": {},
   "outputs": [
    {
     "ename": "RecursionError",
     "evalue": "maximum recursion depth exceeded in comparison",
     "output_type": "error",
     "traceback": [
      "\u001b[1;31m---------------------------------------------------------------------------\u001b[0m",
      "\u001b[1;31mRecursionError\u001b[0m                            Traceback (most recent call last)",
      "\u001b[1;32m~\\AppData\\Local\\Temp/ipykernel_12204/2766748203.py\u001b[0m in \u001b[0;36m<module>\u001b[1;34m\u001b[0m\n\u001b[0;32m      1\u001b[0m \u001b[1;31m#Lets check on -ve values.\u001b[0m\u001b[1;33m\u001b[0m\u001b[1;33m\u001b[0m\u001b[1;33m\u001b[0m\u001b[0m\n\u001b[0;32m      2\u001b[0m \u001b[1;31m# As u can see, we are in same infinite loop like before where maximum recursion depth exceeded in comparison.\u001b[0m\u001b[1;33m\u001b[0m\u001b[1;33m\u001b[0m\u001b[1;33m\u001b[0m\u001b[0m\n\u001b[1;32m----> 3\u001b[1;33m \u001b[0mfactorial\u001b[0m\u001b[1;33m(\u001b[0m\u001b[1;33m-\u001b[0m\u001b[1;36m3\u001b[0m\u001b[1;33m)\u001b[0m\u001b[1;33m\u001b[0m\u001b[1;33m\u001b[0m\u001b[0m\n\u001b[0m",
      "\u001b[1;32m~\\AppData\\Local\\Temp/ipykernel_12204/2285885270.py\u001b[0m in \u001b[0;36mfactorial\u001b[1;34m(n)\u001b[0m\n\u001b[0;32m      6\u001b[0m     \u001b[1;31m#recursive case\u001b[0m\u001b[1;33m\u001b[0m\u001b[1;33m\u001b[0m\u001b[1;33m\u001b[0m\u001b[0m\n\u001b[0;32m      7\u001b[0m     \u001b[1;32melse\u001b[0m\u001b[1;33m:\u001b[0m\u001b[1;33m\u001b[0m\u001b[1;33m\u001b[0m\u001b[0m\n\u001b[1;32m----> 8\u001b[1;33m         \u001b[1;32mreturn\u001b[0m \u001b[0mn\u001b[0m \u001b[1;33m*\u001b[0m \u001b[0mfactorial\u001b[0m\u001b[1;33m(\u001b[0m\u001b[0mn\u001b[0m\u001b[1;33m-\u001b[0m\u001b[1;36m1\u001b[0m\u001b[1;33m)\u001b[0m\u001b[1;33m\u001b[0m\u001b[1;33m\u001b[0m\u001b[0m\n\u001b[0m",
      "... last 1 frames repeated, from the frame below ...\n",
      "\u001b[1;32m~\\AppData\\Local\\Temp/ipykernel_12204/2285885270.py\u001b[0m in \u001b[0;36mfactorial\u001b[1;34m(n)\u001b[0m\n\u001b[0;32m      6\u001b[0m     \u001b[1;31m#recursive case\u001b[0m\u001b[1;33m\u001b[0m\u001b[1;33m\u001b[0m\u001b[1;33m\u001b[0m\u001b[0m\n\u001b[0;32m      7\u001b[0m     \u001b[1;32melse\u001b[0m\u001b[1;33m:\u001b[0m\u001b[1;33m\u001b[0m\u001b[1;33m\u001b[0m\u001b[0m\n\u001b[1;32m----> 8\u001b[1;33m         \u001b[1;32mreturn\u001b[0m \u001b[0mn\u001b[0m \u001b[1;33m*\u001b[0m \u001b[0mfactorial\u001b[0m\u001b[1;33m(\u001b[0m\u001b[0mn\u001b[0m\u001b[1;33m-\u001b[0m\u001b[1;36m1\u001b[0m\u001b[1;33m)\u001b[0m\u001b[1;33m\u001b[0m\u001b[1;33m\u001b[0m\u001b[0m\n\u001b[0m",
      "\u001b[1;31mRecursionError\u001b[0m: maximum recursion depth exceeded in comparison"
     ]
    }
   ],
   "source": [
    "#Lets check on -ve values.\n",
    "# As u can see, we are in same infinite loop like before where maximum recursion depth exceeded in comparison.\n",
    "factorial(-3)"
   ]
  },
  {
   "cell_type": "code",
   "execution_count": 34,
   "id": "61b6d9ef",
   "metadata": {},
   "outputs": [],
   "source": [
    "# FINAL!\n",
    "#Lets use assertion method of python to add this constraint to our fn.\n",
    "def factorial(n):\n",
    "    assert n >= 0 and int(n) == n, 'The number must be positive integer only'\n",
    "    \n",
    "    #Base case\n",
    "    if n in [0,1]:\n",
    "        return 1\n",
    "    #recursive case\n",
    "    else:\n",
    "        return n * factorial(n-1)"
   ]
  },
  {
   "cell_type": "code",
   "execution_count": 35,
   "id": "5cf222d5",
   "metadata": {},
   "outputs": [
    {
     "data": {
      "text/plain": [
       "6"
      ]
     },
     "execution_count": 35,
     "metadata": {},
     "output_type": "execute_result"
    }
   ],
   "source": [
    "factorial(3)"
   ]
  },
  {
   "cell_type": "code",
   "execution_count": 36,
   "id": "535a78ff",
   "metadata": {},
   "outputs": [
    {
     "ename": "AssertionError",
     "evalue": "The number must be positive integer only",
     "output_type": "error",
     "traceback": [
      "\u001b[1;31m---------------------------------------------------------------------------\u001b[0m",
      "\u001b[1;31mAssertionError\u001b[0m                            Traceback (most recent call last)",
      "\u001b[1;32m~\\AppData\\Local\\Temp/ipykernel_12204/3176129998.py\u001b[0m in \u001b[0;36m<module>\u001b[1;34m\u001b[0m\n\u001b[1;32m----> 1\u001b[1;33m \u001b[0mfactorial\u001b[0m\u001b[1;33m(\u001b[0m\u001b[1;33m-\u001b[0m\u001b[1;36m3\u001b[0m\u001b[1;33m)\u001b[0m\u001b[1;33m\u001b[0m\u001b[1;33m\u001b[0m\u001b[0m\n\u001b[0m",
      "\u001b[1;32m~\\AppData\\Local\\Temp/ipykernel_12204/245259805.py\u001b[0m in \u001b[0;36mfactorial\u001b[1;34m(n)\u001b[0m\n\u001b[0;32m      1\u001b[0m \u001b[1;31m#Lets use assertion method of python to add this constraint to our fn.\u001b[0m\u001b[1;33m\u001b[0m\u001b[1;33m\u001b[0m\u001b[1;33m\u001b[0m\u001b[0m\n\u001b[0;32m      2\u001b[0m \u001b[1;32mdef\u001b[0m \u001b[0mfactorial\u001b[0m\u001b[1;33m(\u001b[0m\u001b[0mn\u001b[0m\u001b[1;33m)\u001b[0m\u001b[1;33m:\u001b[0m\u001b[1;33m\u001b[0m\u001b[1;33m\u001b[0m\u001b[0m\n\u001b[1;32m----> 3\u001b[1;33m     \u001b[1;32massert\u001b[0m \u001b[0mn\u001b[0m \u001b[1;33m>=\u001b[0m \u001b[1;36m0\u001b[0m \u001b[1;32mand\u001b[0m \u001b[0mint\u001b[0m\u001b[1;33m(\u001b[0m\u001b[0mn\u001b[0m\u001b[1;33m)\u001b[0m \u001b[1;33m==\u001b[0m \u001b[0mn\u001b[0m\u001b[1;33m,\u001b[0m \u001b[1;34m'The number must be positive integer only'\u001b[0m\u001b[1;33m\u001b[0m\u001b[1;33m\u001b[0m\u001b[0m\n\u001b[0m\u001b[0;32m      4\u001b[0m \u001b[1;33m\u001b[0m\u001b[0m\n\u001b[0;32m      5\u001b[0m     \u001b[1;31m#Base case\u001b[0m\u001b[1;33m\u001b[0m\u001b[1;33m\u001b[0m\u001b[1;33m\u001b[0m\u001b[0m\n",
      "\u001b[1;31mAssertionError\u001b[0m: The number must be positive integer only"
     ]
    }
   ],
   "source": [
    "factorial(-3)"
   ]
  },
  {
   "cell_type": "code",
   "execution_count": 37,
   "id": "e796558c",
   "metadata": {},
   "outputs": [],
   "source": [
    "# As u can see,its giving desired assertion error:\n",
    "#The number must be positive integer only"
   ]
  },
  {
   "cell_type": "code",
   "execution_count": 39,
   "id": "d1c32be5",
   "metadata": {},
   "outputs": [
    {
     "ename": "AssertionError",
     "evalue": "The number must be positive integer only",
     "output_type": "error",
     "traceback": [
      "\u001b[1;31m---------------------------------------------------------------------------\u001b[0m",
      "\u001b[1;31mAssertionError\u001b[0m                            Traceback (most recent call last)",
      "\u001b[1;32m~\\AppData\\Local\\Temp/ipykernel_12204/948158270.py\u001b[0m in \u001b[0;36m<module>\u001b[1;34m\u001b[0m\n\u001b[1;32m----> 1\u001b[1;33m \u001b[0mfactorial\u001b[0m\u001b[1;33m(\u001b[0m\u001b[1;36m1.5\u001b[0m\u001b[1;33m)\u001b[0m\u001b[1;33m\u001b[0m\u001b[1;33m\u001b[0m\u001b[0m\n\u001b[0m",
      "\u001b[1;32m~\\AppData\\Local\\Temp/ipykernel_12204/245259805.py\u001b[0m in \u001b[0;36mfactorial\u001b[1;34m(n)\u001b[0m\n\u001b[0;32m      1\u001b[0m \u001b[1;31m#Lets use assertion method of python to add this constraint to our fn.\u001b[0m\u001b[1;33m\u001b[0m\u001b[1;33m\u001b[0m\u001b[1;33m\u001b[0m\u001b[0m\n\u001b[0;32m      2\u001b[0m \u001b[1;32mdef\u001b[0m \u001b[0mfactorial\u001b[0m\u001b[1;33m(\u001b[0m\u001b[0mn\u001b[0m\u001b[1;33m)\u001b[0m\u001b[1;33m:\u001b[0m\u001b[1;33m\u001b[0m\u001b[1;33m\u001b[0m\u001b[0m\n\u001b[1;32m----> 3\u001b[1;33m     \u001b[1;32massert\u001b[0m \u001b[0mn\u001b[0m \u001b[1;33m>=\u001b[0m \u001b[1;36m0\u001b[0m \u001b[1;32mand\u001b[0m \u001b[0mint\u001b[0m\u001b[1;33m(\u001b[0m\u001b[0mn\u001b[0m\u001b[1;33m)\u001b[0m \u001b[1;33m==\u001b[0m \u001b[0mn\u001b[0m\u001b[1;33m,\u001b[0m \u001b[1;34m'The number must be positive integer only'\u001b[0m\u001b[1;33m\u001b[0m\u001b[1;33m\u001b[0m\u001b[0m\n\u001b[0m\u001b[0;32m      4\u001b[0m \u001b[1;33m\u001b[0m\u001b[0m\n\u001b[0;32m      5\u001b[0m     \u001b[1;31m#Base case\u001b[0m\u001b[1;33m\u001b[0m\u001b[1;33m\u001b[0m\u001b[1;33m\u001b[0m\u001b[0m\n",
      "\u001b[1;31mAssertionError\u001b[0m: The number must be positive integer only"
     ]
    }
   ],
   "source": [
    "factorial(1.5)"
   ]
  },
  {
   "cell_type": "code",
   "execution_count": 43,
   "id": "6385f2c4",
   "metadata": {},
   "outputs": [
    {
     "data": {
      "text/plain": [
       "3628800"
      ]
     },
     "execution_count": 43,
     "metadata": {},
     "output_type": "execute_result"
    }
   ],
   "source": [
    "factorial(10)"
   ]
  },
  {
   "cell_type": "code",
   "execution_count": null,
   "id": "149d9f44",
   "metadata": {},
   "outputs": [],
   "source": [
    "#Q3"
   ]
  },
  {
   "cell_type": "markdown",
   "id": "1fcf89a6",
   "metadata": {},
   "source": [
    "**Fibonacci Sequence**\n",
    "- Fibonacci seq is a sequence of numbers in which each number is the sum of the two preceding ones and the sequence start from 0 and 1\n",
    "- eg., --> 0,1,1,2,3,5,8,13,21,34.."
   ]
  },
  {
   "cell_type": "code",
   "execution_count": 53,
   "id": "b06c87e0",
   "metadata": {},
   "outputs": [],
   "source": [
    "def fibonacciSeq(n):\n",
    "    #Base case\n",
    "    if n in [0,1]:\n",
    "        return n\n",
    "    #Recursive case\n",
    "    else:\n",
    "        return fibonacciSeq(n-1) + fibonacciSeq(n-2)"
   ]
  },
  {
   "cell_type": "code",
   "execution_count": 58,
   "id": "0267f56d",
   "metadata": {},
   "outputs": [
    {
     "data": {
      "text/plain": [
       "5"
      ]
     },
     "execution_count": 58,
     "metadata": {},
     "output_type": "execute_result"
    }
   ],
   "source": [
    "fibonacciSeq(5)   ##fibonacci of index 5 is 5."
   ]
  },
  {
   "cell_type": "code",
   "execution_count": 59,
   "id": "e6419aa9",
   "metadata": {},
   "outputs": [],
   "source": [
    "def fibonacci(n):\n",
    "    #Base case\n",
    "    if n in [0,1]:\n",
    "        return n           #return n not 1,as fib(0) is 0\n",
    "    #recusrive case\n",
    "    else:\n",
    "        return fibonacci(n-1) + fibonacci(n-2)"
   ]
  },
  {
   "cell_type": "code",
   "execution_count": 61,
   "id": "0e097f6d",
   "metadata": {},
   "outputs": [
    {
     "data": {
      "text/plain": [
       "5"
      ]
     },
     "execution_count": 61,
     "metadata": {},
     "output_type": "execute_result"
    }
   ],
   "source": [
    "fibonacci(5)  #fibonacci of index 5 is 5."
   ]
  },
  {
   "cell_type": "code",
   "execution_count": 62,
   "id": "1557fcd4",
   "metadata": {},
   "outputs": [
    {
     "data": {
      "text/plain": [
       "8"
      ]
     },
     "execution_count": 62,
     "metadata": {},
     "output_type": "execute_result"
    }
   ],
   "source": [
    "fibonacci(6) #fibonacci of index 6 is 8."
   ]
  },
  {
   "cell_type": "code",
   "execution_count": 63,
   "id": "f6f570c3",
   "metadata": {},
   "outputs": [
    {
     "data": {
      "text/plain": [
       "13"
      ]
     },
     "execution_count": 63,
     "metadata": {},
     "output_type": "execute_result"
    }
   ],
   "source": [
    "fibonacci(7)"
   ]
  },
  {
   "cell_type": "code",
   "execution_count": 64,
   "id": "14be1c35",
   "metadata": {},
   "outputs": [
    {
     "ename": "RecursionError",
     "evalue": "maximum recursion depth exceeded in comparison",
     "output_type": "error",
     "traceback": [
      "\u001b[1;31m---------------------------------------------------------------------------\u001b[0m",
      "\u001b[1;31mRecursionError\u001b[0m                            Traceback (most recent call last)",
      "\u001b[1;32m~\\AppData\\Local\\Temp/ipykernel_12204/1928780523.py\u001b[0m in \u001b[0;36m<module>\u001b[1;34m\u001b[0m\n\u001b[0;32m      1\u001b[0m \u001b[1;31m#Lets add constraint to our fn\u001b[0m\u001b[1;33m\u001b[0m\u001b[1;33m\u001b[0m\u001b[1;33m\u001b[0m\u001b[0m\n\u001b[1;32m----> 2\u001b[1;33m \u001b[0mfibonacci\u001b[0m\u001b[1;33m(\u001b[0m\u001b[1;33m-\u001b[0m\u001b[1;36m1\u001b[0m\u001b[1;33m)\u001b[0m\u001b[1;33m\u001b[0m\u001b[1;33m\u001b[0m\u001b[0m\n\u001b[0m",
      "\u001b[1;32m~\\AppData\\Local\\Temp/ipykernel_12204/1773787235.py\u001b[0m in \u001b[0;36mfibonacci\u001b[1;34m(n)\u001b[0m\n\u001b[0;32m      5\u001b[0m     \u001b[1;31m#recusrive case\u001b[0m\u001b[1;33m\u001b[0m\u001b[1;33m\u001b[0m\u001b[1;33m\u001b[0m\u001b[0m\n\u001b[0;32m      6\u001b[0m     \u001b[1;32melse\u001b[0m\u001b[1;33m:\u001b[0m\u001b[1;33m\u001b[0m\u001b[1;33m\u001b[0m\u001b[0m\n\u001b[1;32m----> 7\u001b[1;33m         \u001b[1;32mreturn\u001b[0m \u001b[0mfibonacci\u001b[0m\u001b[1;33m(\u001b[0m\u001b[0mn\u001b[0m\u001b[1;33m-\u001b[0m\u001b[1;36m1\u001b[0m\u001b[1;33m)\u001b[0m \u001b[1;33m+\u001b[0m \u001b[0mfibonacci\u001b[0m\u001b[1;33m(\u001b[0m\u001b[0mn\u001b[0m\u001b[1;33m-\u001b[0m\u001b[1;36m2\u001b[0m\u001b[1;33m)\u001b[0m\u001b[1;33m\u001b[0m\u001b[1;33m\u001b[0m\u001b[0m\n\u001b[0m",
      "... last 1 frames repeated, from the frame below ...\n",
      "\u001b[1;32m~\\AppData\\Local\\Temp/ipykernel_12204/1773787235.py\u001b[0m in \u001b[0;36mfibonacci\u001b[1;34m(n)\u001b[0m\n\u001b[0;32m      5\u001b[0m     \u001b[1;31m#recusrive case\u001b[0m\u001b[1;33m\u001b[0m\u001b[1;33m\u001b[0m\u001b[1;33m\u001b[0m\u001b[0m\n\u001b[0;32m      6\u001b[0m     \u001b[1;32melse\u001b[0m\u001b[1;33m:\u001b[0m\u001b[1;33m\u001b[0m\u001b[1;33m\u001b[0m\u001b[0m\n\u001b[1;32m----> 7\u001b[1;33m         \u001b[1;32mreturn\u001b[0m \u001b[0mfibonacci\u001b[0m\u001b[1;33m(\u001b[0m\u001b[0mn\u001b[0m\u001b[1;33m-\u001b[0m\u001b[1;36m1\u001b[0m\u001b[1;33m)\u001b[0m \u001b[1;33m+\u001b[0m \u001b[0mfibonacci\u001b[0m\u001b[1;33m(\u001b[0m\u001b[0mn\u001b[0m\u001b[1;33m-\u001b[0m\u001b[1;36m2\u001b[0m\u001b[1;33m)\u001b[0m\u001b[1;33m\u001b[0m\u001b[1;33m\u001b[0m\u001b[0m\n\u001b[0m",
      "\u001b[1;31mRecursionError\u001b[0m: maximum recursion depth exceeded in comparison"
     ]
    }
   ],
   "source": [
    "#Lets add constraint to our fn\n",
    "fibonacci(-1)"
   ]
  },
  {
   "cell_type": "code",
   "execution_count": 65,
   "id": "400deb34",
   "metadata": {},
   "outputs": [
    {
     "ename": "RecursionError",
     "evalue": "maximum recursion depth exceeded in comparison",
     "output_type": "error",
     "traceback": [
      "\u001b[1;31m---------------------------------------------------------------------------\u001b[0m",
      "\u001b[1;31mRecursionError\u001b[0m                            Traceback (most recent call last)",
      "\u001b[1;32m~\\AppData\\Local\\Temp/ipykernel_12204/434097436.py\u001b[0m in \u001b[0;36m<module>\u001b[1;34m\u001b[0m\n\u001b[1;32m----> 1\u001b[1;33m \u001b[0mfibonacci\u001b[0m\u001b[1;33m(\u001b[0m\u001b[1;36m1.5\u001b[0m\u001b[1;33m)\u001b[0m\u001b[1;33m\u001b[0m\u001b[1;33m\u001b[0m\u001b[0m\n\u001b[0m",
      "\u001b[1;32m~\\AppData\\Local\\Temp/ipykernel_12204/1773787235.py\u001b[0m in \u001b[0;36mfibonacci\u001b[1;34m(n)\u001b[0m\n\u001b[0;32m      5\u001b[0m     \u001b[1;31m#recusrive case\u001b[0m\u001b[1;33m\u001b[0m\u001b[1;33m\u001b[0m\u001b[1;33m\u001b[0m\u001b[0m\n\u001b[0;32m      6\u001b[0m     \u001b[1;32melse\u001b[0m\u001b[1;33m:\u001b[0m\u001b[1;33m\u001b[0m\u001b[1;33m\u001b[0m\u001b[0m\n\u001b[1;32m----> 7\u001b[1;33m         \u001b[1;32mreturn\u001b[0m \u001b[0mfibonacci\u001b[0m\u001b[1;33m(\u001b[0m\u001b[0mn\u001b[0m\u001b[1;33m-\u001b[0m\u001b[1;36m1\u001b[0m\u001b[1;33m)\u001b[0m \u001b[1;33m+\u001b[0m \u001b[0mfibonacci\u001b[0m\u001b[1;33m(\u001b[0m\u001b[0mn\u001b[0m\u001b[1;33m-\u001b[0m\u001b[1;36m2\u001b[0m\u001b[1;33m)\u001b[0m\u001b[1;33m\u001b[0m\u001b[1;33m\u001b[0m\u001b[0m\n\u001b[0m",
      "... last 1 frames repeated, from the frame below ...\n",
      "\u001b[1;32m~\\AppData\\Local\\Temp/ipykernel_12204/1773787235.py\u001b[0m in \u001b[0;36mfibonacci\u001b[1;34m(n)\u001b[0m\n\u001b[0;32m      5\u001b[0m     \u001b[1;31m#recusrive case\u001b[0m\u001b[1;33m\u001b[0m\u001b[1;33m\u001b[0m\u001b[1;33m\u001b[0m\u001b[0m\n\u001b[0;32m      6\u001b[0m     \u001b[1;32melse\u001b[0m\u001b[1;33m:\u001b[0m\u001b[1;33m\u001b[0m\u001b[1;33m\u001b[0m\u001b[0m\n\u001b[1;32m----> 7\u001b[1;33m         \u001b[1;32mreturn\u001b[0m \u001b[0mfibonacci\u001b[0m\u001b[1;33m(\u001b[0m\u001b[0mn\u001b[0m\u001b[1;33m-\u001b[0m\u001b[1;36m1\u001b[0m\u001b[1;33m)\u001b[0m \u001b[1;33m+\u001b[0m \u001b[0mfibonacci\u001b[0m\u001b[1;33m(\u001b[0m\u001b[0mn\u001b[0m\u001b[1;33m-\u001b[0m\u001b[1;36m2\u001b[0m\u001b[1;33m)\u001b[0m\u001b[1;33m\u001b[0m\u001b[1;33m\u001b[0m\u001b[0m\n\u001b[0m",
      "\u001b[1;31mRecursionError\u001b[0m: maximum recursion depth exceeded in comparison"
     ]
    }
   ],
   "source": [
    "fibonacci(1.5)"
   ]
  },
  {
   "cell_type": "code",
   "execution_count": 72,
   "id": "d802b1e1",
   "metadata": {},
   "outputs": [],
   "source": [
    "# FINAL\n",
    "def fibonacci(n):\n",
    "    assert n >=0 and int(n) == n, 'Fibonacci number can not be Negative Integer or non integer'\n",
    "    \n",
    "    #Base Case\n",
    "    if n in [0,1]:\n",
    "        return n\n",
    "    #Recursive Case\n",
    "    else:\n",
    "        return fibonacci(n-1) + fibonacci(n-2)"
   ]
  },
  {
   "cell_type": "code",
   "execution_count": 73,
   "id": "7556abda",
   "metadata": {},
   "outputs": [
    {
     "ename": "AssertionError",
     "evalue": "Fibonacci number can not be Negative Integer or non integer",
     "output_type": "error",
     "traceback": [
      "\u001b[1;31m---------------------------------------------------------------------------\u001b[0m",
      "\u001b[1;31mAssertionError\u001b[0m                            Traceback (most recent call last)",
      "\u001b[1;32m~\\AppData\\Local\\Temp/ipykernel_12204/136216706.py\u001b[0m in \u001b[0;36m<module>\u001b[1;34m\u001b[0m\n\u001b[1;32m----> 1\u001b[1;33m \u001b[0mfibonacci\u001b[0m\u001b[1;33m(\u001b[0m\u001b[1;33m-\u001b[0m\u001b[1;36m1\u001b[0m\u001b[1;33m)\u001b[0m \u001b[1;31m#IT works!\u001b[0m\u001b[1;33m\u001b[0m\u001b[1;33m\u001b[0m\u001b[0m\n\u001b[0m",
      "\u001b[1;32m~\\AppData\\Local\\Temp/ipykernel_12204/2962412253.py\u001b[0m in \u001b[0;36mfibonacci\u001b[1;34m(n)\u001b[0m\n\u001b[0;32m      1\u001b[0m \u001b[1;31m# FINAL\u001b[0m\u001b[1;33m\u001b[0m\u001b[1;33m\u001b[0m\u001b[1;33m\u001b[0m\u001b[0m\n\u001b[0;32m      2\u001b[0m \u001b[1;32mdef\u001b[0m \u001b[0mfibonacci\u001b[0m\u001b[1;33m(\u001b[0m\u001b[0mn\u001b[0m\u001b[1;33m)\u001b[0m\u001b[1;33m:\u001b[0m\u001b[1;33m\u001b[0m\u001b[1;33m\u001b[0m\u001b[0m\n\u001b[1;32m----> 3\u001b[1;33m     \u001b[1;32massert\u001b[0m \u001b[0mn\u001b[0m \u001b[1;33m>=\u001b[0m\u001b[1;36m0\u001b[0m \u001b[1;32mand\u001b[0m \u001b[0mint\u001b[0m\u001b[1;33m(\u001b[0m\u001b[0mn\u001b[0m\u001b[1;33m)\u001b[0m \u001b[1;33m==\u001b[0m \u001b[0mn\u001b[0m\u001b[1;33m,\u001b[0m \u001b[1;34m'Fibonacci number can not be Negative Integer or non integer'\u001b[0m\u001b[1;33m\u001b[0m\u001b[1;33m\u001b[0m\u001b[0m\n\u001b[0m\u001b[0;32m      4\u001b[0m \u001b[1;33m\u001b[0m\u001b[0m\n\u001b[0;32m      5\u001b[0m     \u001b[1;31m#Base Case\u001b[0m\u001b[1;33m\u001b[0m\u001b[1;33m\u001b[0m\u001b[1;33m\u001b[0m\u001b[0m\n",
      "\u001b[1;31mAssertionError\u001b[0m: Fibonacci number can not be Negative Integer or non integer"
     ]
    }
   ],
   "source": [
    "fibonacci(-1) #IT works!"
   ]
  },
  {
   "cell_type": "code",
   "execution_count": 74,
   "id": "b20d496b",
   "metadata": {},
   "outputs": [
    {
     "data": {
      "text/plain": [
       "8"
      ]
     },
     "execution_count": 74,
     "metadata": {},
     "output_type": "execute_result"
    }
   ],
   "source": [
    "fibonacci(6)"
   ]
  },
  {
   "cell_type": "code",
   "execution_count": 77,
   "id": "f40dd05d",
   "metadata": {},
   "outputs": [
    {
     "data": {
      "text/plain": [
       "55"
      ]
     },
     "execution_count": 77,
     "metadata": {},
     "output_type": "execute_result"
    }
   ],
   "source": [
    "fibonacci(10)   #It will take alot of time for larger number values as all recursion needs stack memory for operation."
   ]
  },
  {
   "cell_type": "code",
   "execution_count": 1,
   "id": "e5793def",
   "metadata": {},
   "outputs": [],
   "source": [
    "#Q4"
   ]
  },
  {
   "cell_type": "code",
   "execution_count": 2,
   "id": "2293d516",
   "metadata": {},
   "outputs": [],
   "source": [
    "# HOw to find sum of digits of a positive integer number using recursion?\n",
    "#10 --> 1 + 0 = 1\n",
    "#54 --> 5 + 4 = 9"
   ]
  },
  {
   "cell_type": "code",
   "execution_count": 4,
   "id": "bab190a3",
   "metadata": {},
   "outputs": [],
   "source": [
    "def sumOfDigits(n):\n",
    "    #Base case\n",
    "    if n==0:\n",
    "        return 0\n",
    "    else:\n",
    "    #recursive case\n",
    "        return (n%10) + sumOfDigits(n//10)"
   ]
  },
  {
   "cell_type": "code",
   "execution_count": 5,
   "id": "47aa92a6",
   "metadata": {},
   "outputs": [
    {
     "data": {
      "text/plain": [
       "4"
      ]
     },
     "execution_count": 5,
     "metadata": {},
     "output_type": "execute_result"
    }
   ],
   "source": [
    "sumOfDigits(4)"
   ]
  },
  {
   "cell_type": "code",
   "execution_count": 6,
   "id": "05a19444",
   "metadata": {},
   "outputs": [
    {
     "data": {
      "text/plain": [
       "2"
      ]
     },
     "execution_count": 6,
     "metadata": {},
     "output_type": "execute_result"
    }
   ],
   "source": [
    "sumOfDigits(11)"
   ]
  },
  {
   "cell_type": "code",
   "execution_count": 7,
   "id": "3b42bd38",
   "metadata": {},
   "outputs": [
    {
     "data": {
      "text/plain": [
       "4"
      ]
     },
     "execution_count": 7,
     "metadata": {},
     "output_type": "execute_result"
    }
   ],
   "source": [
    "sumOfDigits(112)"
   ]
  },
  {
   "cell_type": "code",
   "execution_count": 8,
   "id": "9b58f2bd",
   "metadata": {},
   "outputs": [
    {
     "data": {
      "text/plain": [
       "5.3"
      ]
     },
     "execution_count": 8,
     "metadata": {},
     "output_type": "execute_result"
    }
   ],
   "source": [
    "sumOfDigits(5.3)"
   ]
  },
  {
   "cell_type": "code",
   "execution_count": 13,
   "id": "2127a2e1",
   "metadata": {},
   "outputs": [],
   "source": [
    "# we need positive int,so number should be positive & integer\n",
    "# Final\n",
    "def sumOfDigits(n):\n",
    "    #Assertion\n",
    "    assert n >=0 and int(n) == n ,'The number should be a positive integer'\n",
    "    #Base case\n",
    "    if n == 0:\n",
    "        return 0\n",
    "    #recursive case\n",
    "    else:\n",
    "        return int(n%10) + sumOfDigits(int(n//10))"
   ]
  },
  {
   "cell_type": "code",
   "execution_count": 14,
   "id": "0251cec0",
   "metadata": {},
   "outputs": [
    {
     "data": {
      "text/plain": [
       "1"
      ]
     },
     "execution_count": 14,
     "metadata": {},
     "output_type": "execute_result"
    }
   ],
   "source": [
    "sumOfDigits(10)"
   ]
  },
  {
   "cell_type": "code",
   "execution_count": 15,
   "id": "b5774875",
   "metadata": {},
   "outputs": [
    {
     "ename": "AssertionError",
     "evalue": "The number should be a positive integer",
     "output_type": "error",
     "traceback": [
      "\u001b[1;31m---------------------------------------------------------------------------\u001b[0m",
      "\u001b[1;31mAssertionError\u001b[0m                            Traceback (most recent call last)",
      "\u001b[1;32m~\\AppData\\Local\\Temp/ipykernel_6096/1604412102.py\u001b[0m in \u001b[0;36m<module>\u001b[1;34m\u001b[0m\n\u001b[1;32m----> 1\u001b[1;33m \u001b[0msumOfDigits\u001b[0m\u001b[1;33m(\u001b[0m\u001b[1;36m3.5\u001b[0m\u001b[1;33m)\u001b[0m\u001b[1;33m\u001b[0m\u001b[1;33m\u001b[0m\u001b[0m\n\u001b[0m",
      "\u001b[1;32m~\\AppData\\Local\\Temp/ipykernel_6096/966029895.py\u001b[0m in \u001b[0;36msumOfDigits\u001b[1;34m(n)\u001b[0m\n\u001b[0;32m      3\u001b[0m \u001b[1;32mdef\u001b[0m \u001b[0msumOfDigits\u001b[0m\u001b[1;33m(\u001b[0m\u001b[0mn\u001b[0m\u001b[1;33m)\u001b[0m\u001b[1;33m:\u001b[0m\u001b[1;33m\u001b[0m\u001b[1;33m\u001b[0m\u001b[0m\n\u001b[0;32m      4\u001b[0m     \u001b[1;31m#Assertion\u001b[0m\u001b[1;33m\u001b[0m\u001b[1;33m\u001b[0m\u001b[1;33m\u001b[0m\u001b[0m\n\u001b[1;32m----> 5\u001b[1;33m     \u001b[1;32massert\u001b[0m \u001b[0mn\u001b[0m \u001b[1;33m>=\u001b[0m\u001b[1;36m0\u001b[0m \u001b[1;32mand\u001b[0m \u001b[0mint\u001b[0m\u001b[1;33m(\u001b[0m\u001b[0mn\u001b[0m\u001b[1;33m)\u001b[0m \u001b[1;33m==\u001b[0m \u001b[0mn\u001b[0m \u001b[1;33m,\u001b[0m\u001b[1;34m'The number should be a positive integer'\u001b[0m\u001b[1;33m\u001b[0m\u001b[1;33m\u001b[0m\u001b[0m\n\u001b[0m\u001b[0;32m      6\u001b[0m     \u001b[1;31m#Base case\u001b[0m\u001b[1;33m\u001b[0m\u001b[1;33m\u001b[0m\u001b[1;33m\u001b[0m\u001b[0m\n\u001b[0;32m      7\u001b[0m     \u001b[1;32mif\u001b[0m \u001b[0mn\u001b[0m \u001b[1;33m==\u001b[0m \u001b[1;36m0\u001b[0m\u001b[1;33m:\u001b[0m\u001b[1;33m\u001b[0m\u001b[1;33m\u001b[0m\u001b[0m\n",
      "\u001b[1;31mAssertionError\u001b[0m: The number should be a positive integer"
     ]
    }
   ],
   "source": [
    "sumOfDigits(3.5)"
   ]
  },
  {
   "cell_type": "code",
   "execution_count": null,
   "id": "e91c965e",
   "metadata": {},
   "outputs": [],
   "source": [
    "#Q5"
   ]
  },
  {
   "cell_type": "code",
   "execution_count": 16,
   "id": "077aeb7c",
   "metadata": {},
   "outputs": [],
   "source": [
    "# How to calculate power of a number using Recursion?\n",
    "# step1: Recursive case - The flow\n",
    "# step2: Base case - The stopping criterion\n",
    "# step3: unintentional case - The constraints(problem edge cases)"
   ]
  },
  {
   "cell_type": "code",
   "execution_count": 33,
   "id": "fa6fb200",
   "metadata": {},
   "outputs": [],
   "source": [
    "def power(base,exp):\n",
    "    #Base case\n",
    "    if exp == 0:\n",
    "        return 1\n",
    "    elif exp ==1:\n",
    "        return base\n",
    "\n",
    "    #Recursive case\n",
    "    else:\n",
    "        return base * power(base,exp-1)"
   ]
  },
  {
   "cell_type": "code",
   "execution_count": 34,
   "id": "933c17da",
   "metadata": {},
   "outputs": [
    {
     "data": {
      "text/plain": [
       "4"
      ]
     },
     "execution_count": 34,
     "metadata": {},
     "output_type": "execute_result"
    }
   ],
   "source": [
    "power(2,2)"
   ]
  },
  {
   "cell_type": "code",
   "execution_count": 35,
   "id": "6c1d1c33",
   "metadata": {},
   "outputs": [
    {
     "data": {
      "text/plain": [
       "16"
      ]
     },
     "execution_count": 35,
     "metadata": {},
     "output_type": "execute_result"
    }
   ],
   "source": [
    "power(4,2)"
   ]
  },
  {
   "cell_type": "code",
   "execution_count": 36,
   "id": "34ba0cda",
   "metadata": {},
   "outputs": [
    {
     "data": {
      "text/plain": [
       "16"
      ]
     },
     "execution_count": 36,
     "metadata": {},
     "output_type": "execute_result"
    }
   ],
   "source": [
    "power(2,4)"
   ]
  },
  {
   "cell_type": "code",
   "execution_count": 42,
   "id": "6d772085",
   "metadata": {},
   "outputs": [
    {
     "name": "stdout",
     "output_type": "stream",
     "text": [
      "1\n"
     ]
    }
   ],
   "source": [
    "#lets check edge cases(constraints)\n",
    "print(power(-1,2))"
   ]
  },
  {
   "cell_type": "code",
   "execution_count": 45,
   "id": "72b86724",
   "metadata": {},
   "outputs": [
    {
     "name": "stdout",
     "output_type": "stream",
     "text": [
      "104.85760000000003\n"
     ]
    }
   ],
   "source": [
    "print(power(3.2,4))"
   ]
  },
  {
   "cell_type": "code",
   "execution_count": 43,
   "id": "982da371",
   "metadata": {},
   "outputs": [
    {
     "ename": "RecursionError",
     "evalue": "maximum recursion depth exceeded in comparison",
     "output_type": "error",
     "traceback": [
      "\u001b[1;31m---------------------------------------------------------------------------\u001b[0m",
      "\u001b[1;31mRecursionError\u001b[0m                            Traceback (most recent call last)",
      "\u001b[1;32m~\\AppData\\Local\\Temp/ipykernel_6096/2108940382.py\u001b[0m in \u001b[0;36m<module>\u001b[1;34m\u001b[0m\n\u001b[1;32m----> 1\u001b[1;33m \u001b[0mprint\u001b[0m\u001b[1;33m(\u001b[0m\u001b[0mpower\u001b[0m\u001b[1;33m(\u001b[0m\u001b[1;36m2\u001b[0m\u001b[1;33m,\u001b[0m\u001b[1;36m1.2\u001b[0m\u001b[1;33m)\u001b[0m\u001b[1;33m)\u001b[0m\u001b[1;33m\u001b[0m\u001b[1;33m\u001b[0m\u001b[0m\n\u001b[0m",
      "\u001b[1;32m~\\AppData\\Local\\Temp/ipykernel_6096/1699632025.py\u001b[0m in \u001b[0;36mpower\u001b[1;34m(base, exp)\u001b[0m\n\u001b[0;32m      8\u001b[0m     \u001b[1;31m#Recursive case\u001b[0m\u001b[1;33m\u001b[0m\u001b[1;33m\u001b[0m\u001b[1;33m\u001b[0m\u001b[0m\n\u001b[0;32m      9\u001b[0m     \u001b[1;32melse\u001b[0m\u001b[1;33m:\u001b[0m\u001b[1;33m\u001b[0m\u001b[1;33m\u001b[0m\u001b[0m\n\u001b[1;32m---> 10\u001b[1;33m         \u001b[1;32mreturn\u001b[0m \u001b[0mbase\u001b[0m \u001b[1;33m*\u001b[0m \u001b[0mpower\u001b[0m\u001b[1;33m(\u001b[0m\u001b[0mbase\u001b[0m\u001b[1;33m,\u001b[0m\u001b[0mexp\u001b[0m\u001b[1;33m-\u001b[0m\u001b[1;36m1\u001b[0m\u001b[1;33m)\u001b[0m\u001b[1;33m\u001b[0m\u001b[1;33m\u001b[0m\u001b[0m\n\u001b[0m",
      "... last 1 frames repeated, from the frame below ...\n",
      "\u001b[1;32m~\\AppData\\Local\\Temp/ipykernel_6096/1699632025.py\u001b[0m in \u001b[0;36mpower\u001b[1;34m(base, exp)\u001b[0m\n\u001b[0;32m      8\u001b[0m     \u001b[1;31m#Recursive case\u001b[0m\u001b[1;33m\u001b[0m\u001b[1;33m\u001b[0m\u001b[1;33m\u001b[0m\u001b[0m\n\u001b[0;32m      9\u001b[0m     \u001b[1;32melse\u001b[0m\u001b[1;33m:\u001b[0m\u001b[1;33m\u001b[0m\u001b[1;33m\u001b[0m\u001b[0m\n\u001b[1;32m---> 10\u001b[1;33m         \u001b[1;32mreturn\u001b[0m \u001b[0mbase\u001b[0m \u001b[1;33m*\u001b[0m \u001b[0mpower\u001b[0m\u001b[1;33m(\u001b[0m\u001b[0mbase\u001b[0m\u001b[1;33m,\u001b[0m\u001b[0mexp\u001b[0m\u001b[1;33m-\u001b[0m\u001b[1;36m1\u001b[0m\u001b[1;33m)\u001b[0m\u001b[1;33m\u001b[0m\u001b[1;33m\u001b[0m\u001b[0m\n\u001b[0m",
      "\u001b[1;31mRecursionError\u001b[0m: maximum recursion depth exceeded in comparison"
     ]
    }
   ],
   "source": [
    "print(power(2,1.2))"
   ]
  },
  {
   "cell_type": "code",
   "execution_count": 46,
   "id": "ab58eeaf",
   "metadata": {},
   "outputs": [
    {
     "ename": "RecursionError",
     "evalue": "maximum recursion depth exceeded in comparison",
     "output_type": "error",
     "traceback": [
      "\u001b[1;31m---------------------------------------------------------------------------\u001b[0m",
      "\u001b[1;31mRecursionError\u001b[0m                            Traceback (most recent call last)",
      "\u001b[1;32m~\\AppData\\Local\\Temp/ipykernel_6096/1580436153.py\u001b[0m in \u001b[0;36m<module>\u001b[1;34m\u001b[0m\n\u001b[1;32m----> 1\u001b[1;33m \u001b[0mprint\u001b[0m\u001b[1;33m(\u001b[0m\u001b[0mpower\u001b[0m\u001b[1;33m(\u001b[0m\u001b[1;36m2\u001b[0m\u001b[1;33m,\u001b[0m\u001b[1;33m-\u001b[0m\u001b[1;36m4\u001b[0m\u001b[1;33m)\u001b[0m\u001b[1;33m)\u001b[0m\u001b[1;33m\u001b[0m\u001b[1;33m\u001b[0m\u001b[0m\n\u001b[0m",
      "\u001b[1;32m~\\AppData\\Local\\Temp/ipykernel_6096/1699632025.py\u001b[0m in \u001b[0;36mpower\u001b[1;34m(base, exp)\u001b[0m\n\u001b[0;32m      8\u001b[0m     \u001b[1;31m#Recursive case\u001b[0m\u001b[1;33m\u001b[0m\u001b[1;33m\u001b[0m\u001b[1;33m\u001b[0m\u001b[0m\n\u001b[0;32m      9\u001b[0m     \u001b[1;32melse\u001b[0m\u001b[1;33m:\u001b[0m\u001b[1;33m\u001b[0m\u001b[1;33m\u001b[0m\u001b[0m\n\u001b[1;32m---> 10\u001b[1;33m         \u001b[1;32mreturn\u001b[0m \u001b[0mbase\u001b[0m \u001b[1;33m*\u001b[0m \u001b[0mpower\u001b[0m\u001b[1;33m(\u001b[0m\u001b[0mbase\u001b[0m\u001b[1;33m,\u001b[0m\u001b[0mexp\u001b[0m\u001b[1;33m-\u001b[0m\u001b[1;36m1\u001b[0m\u001b[1;33m)\u001b[0m\u001b[1;33m\u001b[0m\u001b[1;33m\u001b[0m\u001b[0m\n\u001b[0m",
      "... last 1 frames repeated, from the frame below ...\n",
      "\u001b[1;32m~\\AppData\\Local\\Temp/ipykernel_6096/1699632025.py\u001b[0m in \u001b[0;36mpower\u001b[1;34m(base, exp)\u001b[0m\n\u001b[0;32m      8\u001b[0m     \u001b[1;31m#Recursive case\u001b[0m\u001b[1;33m\u001b[0m\u001b[1;33m\u001b[0m\u001b[1;33m\u001b[0m\u001b[0m\n\u001b[0;32m      9\u001b[0m     \u001b[1;32melse\u001b[0m\u001b[1;33m:\u001b[0m\u001b[1;33m\u001b[0m\u001b[1;33m\u001b[0m\u001b[0m\n\u001b[1;32m---> 10\u001b[1;33m         \u001b[1;32mreturn\u001b[0m \u001b[0mbase\u001b[0m \u001b[1;33m*\u001b[0m \u001b[0mpower\u001b[0m\u001b[1;33m(\u001b[0m\u001b[0mbase\u001b[0m\u001b[1;33m,\u001b[0m\u001b[0mexp\u001b[0m\u001b[1;33m-\u001b[0m\u001b[1;36m1\u001b[0m\u001b[1;33m)\u001b[0m\u001b[1;33m\u001b[0m\u001b[1;33m\u001b[0m\u001b[0m\n\u001b[0m",
      "\u001b[1;31mRecursionError\u001b[0m: maximum recursion depth exceeded in comparison"
     ]
    }
   ],
   "source": [
    "print(power(2,-4))"
   ]
  },
  {
   "cell_type": "code",
   "execution_count": 63,
   "id": "ab7fe542",
   "metadata": {},
   "outputs": [],
   "source": [
    "#so exponential should not be negative nor decimal.\n",
    "# FINAL\n",
    "def power(base,exp):\n",
    "    #Edge cases\n",
    "    assert exp >= 0 and int(exp) == exp,\"The exponent must be positive Integer\"\n",
    "    #Base case\n",
    "    if exp == 0:\n",
    "        return 1\n",
    "    elif exp == 1:\n",
    "        return base\n",
    "    #Recursive Case\n",
    "    else:\n",
    "        return base * power(base,exp-1)"
   ]
  },
  {
   "cell_type": "code",
   "execution_count": 64,
   "id": "a9bce53d",
   "metadata": {},
   "outputs": [
    {
     "data": {
      "text/plain": [
       "196"
      ]
     },
     "execution_count": 64,
     "metadata": {},
     "output_type": "execute_result"
    }
   ],
   "source": [
    "power(14,2)"
   ]
  },
  {
   "cell_type": "code",
   "execution_count": 65,
   "id": "56292ea7",
   "metadata": {},
   "outputs": [
    {
     "data": {
      "text/plain": [
       "-1"
      ]
     },
     "execution_count": 65,
     "metadata": {},
     "output_type": "execute_result"
    }
   ],
   "source": [
    "power(-1,1)"
   ]
  },
  {
   "cell_type": "code",
   "execution_count": 66,
   "id": "13d00ee5",
   "metadata": {},
   "outputs": [
    {
     "ename": "AssertionError",
     "evalue": "The exponent must be positive Integer",
     "output_type": "error",
     "traceback": [
      "\u001b[1;31m---------------------------------------------------------------------------\u001b[0m",
      "\u001b[1;31mAssertionError\u001b[0m                            Traceback (most recent call last)",
      "\u001b[1;32m~\\AppData\\Local\\Temp/ipykernel_6096/1735218852.py\u001b[0m in \u001b[0;36m<module>\u001b[1;34m\u001b[0m\n\u001b[1;32m----> 1\u001b[1;33m \u001b[0mpower\u001b[0m\u001b[1;33m(\u001b[0m\u001b[1;36m2\u001b[0m\u001b[1;33m,\u001b[0m\u001b[1;36m3.3\u001b[0m\u001b[1;33m)\u001b[0m \u001b[1;31m#It works!\u001b[0m\u001b[1;33m\u001b[0m\u001b[1;33m\u001b[0m\u001b[0m\n\u001b[0m",
      "\u001b[1;32m~\\AppData\\Local\\Temp/ipykernel_6096/2572605830.py\u001b[0m in \u001b[0;36mpower\u001b[1;34m(base, exp)\u001b[0m\n\u001b[0;32m      3\u001b[0m \u001b[1;32mdef\u001b[0m \u001b[0mpower\u001b[0m\u001b[1;33m(\u001b[0m\u001b[0mbase\u001b[0m\u001b[1;33m,\u001b[0m\u001b[0mexp\u001b[0m\u001b[1;33m)\u001b[0m\u001b[1;33m:\u001b[0m\u001b[1;33m\u001b[0m\u001b[1;33m\u001b[0m\u001b[0m\n\u001b[0;32m      4\u001b[0m     \u001b[1;31m#Edge cases\u001b[0m\u001b[1;33m\u001b[0m\u001b[1;33m\u001b[0m\u001b[1;33m\u001b[0m\u001b[0m\n\u001b[1;32m----> 5\u001b[1;33m     \u001b[1;32massert\u001b[0m \u001b[0mexp\u001b[0m \u001b[1;33m>=\u001b[0m \u001b[1;36m0\u001b[0m \u001b[1;32mand\u001b[0m \u001b[0mint\u001b[0m\u001b[1;33m(\u001b[0m\u001b[0mexp\u001b[0m\u001b[1;33m)\u001b[0m \u001b[1;33m==\u001b[0m \u001b[0mexp\u001b[0m\u001b[1;33m,\u001b[0m\u001b[1;34m\"The exponent must be positive Integer\"\u001b[0m\u001b[1;33m\u001b[0m\u001b[1;33m\u001b[0m\u001b[0m\n\u001b[0m\u001b[0;32m      6\u001b[0m     \u001b[1;31m#Base case\u001b[0m\u001b[1;33m\u001b[0m\u001b[1;33m\u001b[0m\u001b[1;33m\u001b[0m\u001b[0m\n\u001b[0;32m      7\u001b[0m     \u001b[1;32mif\u001b[0m \u001b[0mexp\u001b[0m \u001b[1;33m==\u001b[0m \u001b[1;36m0\u001b[0m\u001b[1;33m:\u001b[0m\u001b[1;33m\u001b[0m\u001b[1;33m\u001b[0m\u001b[0m\n",
      "\u001b[1;31mAssertionError\u001b[0m: The exponent must be positive Integer"
     ]
    }
   ],
   "source": [
    "power(2,3.3) #It works!"
   ]
  },
  {
   "cell_type": "code",
   "execution_count": 67,
   "id": "515e867b",
   "metadata": {},
   "outputs": [],
   "source": [
    "#Q6"
   ]
  },
  {
   "cell_type": "code",
   "execution_count": 68,
   "id": "9ff19fdc",
   "metadata": {},
   "outputs": [],
   "source": [
    "# How to find GCD (Greatest Common Divisor) of two numbers using Recursion?"
   ]
  },
  {
   "cell_type": "code",
   "execution_count": 69,
   "id": "96464fb3",
   "metadata": {},
   "outputs": [],
   "source": [
    "# In any problem,if you don't know what it actually means,like gcd,lcm,hcf,palindrome,anagram etc,\n",
    "# Simply search on net,understand what you really want,then only start the problem.\n",
    "# Dont stay stuck at not knowing what problem actually wants u to do.\n",
    "# search , understand & then make program based on those conditions & constraints."
   ]
  },
  {
   "cell_type": "code",
   "execution_count": 70,
   "id": "89a7ff48",
   "metadata": {},
   "outputs": [],
   "source": [
    "#GCD -->gcd is the largest positive integer that divides the numbers without a remainder.\n",
    "# exa--> gcd(8,12) = 4\n",
    "#8 = 2 * 2 * 2\n",
    "#12 = 2 * 2 * 3\n",
    "#common factors are --> 2 * 2 =4 (our answer)"
   ]
  },
  {
   "cell_type": "markdown",
   "id": "26937830",
   "metadata": {},
   "source": [
    "You can also do gcd using Euclidean algorithm."
   ]
  },
  {
   "cell_type": "markdown",
   "id": "a33a89e7",
   "metadata": {},
   "source": [
    "gcd(48,18) \n",
    "- Step1: 48 --> 48/18 = 2,remainder=12 (divide a by b)\n",
    "- Step2: 18/12 --> 1 ,remainder 6 (divide b by step 1 remainder)\n",
    "- repeat step2 untill you get remainder=0\n",
    "- 12/6 -->2, remainder= 0.\n",
    "- This above 6 is over gcd, as it divides without remainder."
   ]
  },
  {
   "cell_type": "code",
   "execution_count": 73,
   "id": "f434092d",
   "metadata": {},
   "outputs": [
    {
     "name": "stdout",
     "output_type": "stream",
     "text": [
      "6\n"
     ]
    }
   ],
   "source": [
    "def gcd(a,b):\n",
    "    #Base case\n",
    "    if b == 0:\n",
    "        return a\n",
    "    #Recursive case\n",
    "    else:\n",
    "        return gcd(b , a % b)\n",
    "print(gcd(48,18))"
   ]
  },
  {
   "cell_type": "code",
   "execution_count": 84,
   "id": "3e1f83c4",
   "metadata": {},
   "outputs": [
    {
     "name": "stdout",
     "output_type": "stream",
     "text": [
      "-6\n"
     ]
    }
   ],
   "source": [
    "#Lets see unintentional case(constraints)\n",
    "print(gcd(-48,-18)) #This is wrong as greatest common divisor cannot be negative."
   ]
  },
  {
   "cell_type": "code",
   "execution_count": 90,
   "id": "78a68aab",
   "metadata": {},
   "outputs": [
    {
     "name": "stdout",
     "output_type": "stream",
     "text": [
      "6\n"
     ]
    }
   ],
   "source": [
    "#Final\n",
    "def gcd(a,b):\n",
    "    #Constraints\n",
    "    assert int(a) ==a and int(b)==b ,\"GCD must be Positive integers only\"\n",
    "    if a < 0:\n",
    "        a = a * -1\n",
    "    if b < 0:\n",
    "        b= b * -1\n",
    "    #Base case\n",
    "    if a == 0:\n",
    "        return b\n",
    "    elif b ==0:\n",
    "        return a\n",
    "    #Recursive case\n",
    "    else:\n",
    "        return gcd(b, a % b)\n",
    "print(gcd(48,18))"
   ]
  },
  {
   "cell_type": "code",
   "execution_count": 91,
   "id": "11b2115b",
   "metadata": {},
   "outputs": [
    {
     "name": "stdout",
     "output_type": "stream",
     "text": [
      "6\n"
     ]
    }
   ],
   "source": [
    "print(gcd(-48,-18))"
   ]
  },
  {
   "cell_type": "code",
   "execution_count": 92,
   "id": "5e5e5922",
   "metadata": {},
   "outputs": [],
   "source": [
    "#Q7"
   ]
  },
  {
   "cell_type": "code",
   "execution_count": 93,
   "id": "b455da6e",
   "metadata": {},
   "outputs": [],
   "source": [
    "#How to convert a number from decimal to binary using Recursion"
   ]
  },
  {
   "cell_type": "markdown",
   "id": "332386a8",
   "metadata": {},
   "source": [
    "**Step1:Recursive Case - The flow(Divide by 2 as Binary Base is 2)\n",
    "- Divide the number by 2\n",
    "- Get the integer quotient for the next iteration\n",
    "- Get the remainder for the binary digit\n",
    "- Repeat the steps untill quotient is 0.\n",
    "- example->\n",
    "- 13 to binary\n",
    "- 13/2 = quotient = 6,remainder=1\n",
    "- 6/2 = 3,remainder=0\n",
    "- 3/2= 1,rem=1\n",
    "- 1/2 = quotient =0,remainder =1 (This is our answer as we got quotient = 0)\n",
    "- Line remainder down to top for solution  --> 1101"
   ]
  },
  {
   "cell_type": "code",
   "execution_count": 97,
   "id": "37f986ba",
   "metadata": {},
   "outputs": [
    {
     "name": "stdout",
     "output_type": "stream",
     "text": [
      "inf\n"
     ]
    }
   ],
   "source": [
    "def decimalToBinary(n):\n",
    "    #Constraints\n",
    "    #Base Case\n",
    "    if n == 0:\n",
    "        return 1\n",
    "    #Recursive Case\n",
    "    else:\n",
    "        return (n % 2) +  10 * decimalToBinary(n/2)\n",
    "print(decimalToBinary(10))"
   ]
  },
  {
   "cell_type": "code",
   "execution_count": 98,
   "id": "947a9d26",
   "metadata": {},
   "outputs": [
    {
     "name": "stdout",
     "output_type": "stream",
     "text": [
      "11010\n"
     ]
    }
   ],
   "source": [
    "# We will need n to be integer to give binary results\n",
    "def decimalToBinary(n):\n",
    "    #Constraints\n",
    "    #Base Case\n",
    "    if n == 0:\n",
    "        return 1\n",
    "    #Recursive Case\n",
    "    else:\n",
    "        return (n % 2) +  10 * decimalToBinary(int(n/2))\n",
    "print(decimalToBinary(10))"
   ]
  },
  {
   "cell_type": "code",
   "execution_count": 99,
   "id": "acff8678",
   "metadata": {},
   "outputs": [
    {
     "name": "stdout",
     "output_type": "stream",
     "text": [
      "1010\n"
     ]
    }
   ],
   "source": [
    "# our answer is wrong,as when n==0,we need to return 0 not 1.\n",
    "def decimalToBinary(n):\n",
    "    #Constraints\n",
    "    #Base Case\n",
    "    if n == 0:\n",
    "        return 0\n",
    "    #Recursive Case\n",
    "    else:\n",
    "        return (n % 2) +  10 * decimalToBinary(int(n/2))\n",
    "print(decimalToBinary(10))"
   ]
  },
  {
   "cell_type": "code",
   "execution_count": 102,
   "id": "de8cba84",
   "metadata": {},
   "outputs": [
    {
     "name": "stdout",
     "output_type": "stream",
     "text": [
      "1011.5\n"
     ]
    }
   ],
   "source": [
    "#Lets work on unintentional cases(constraints)\n",
    "# to check for constraints,search on net as well as check for different numbers like +ve,-ve,0,floats etc\n",
    "print(decimalToBinary(-10.5)) #Its wrong as binary output should be 0,1 not floats."
   ]
  },
  {
   "cell_type": "code",
   "execution_count": 103,
   "id": "1c9376cd",
   "metadata": {},
   "outputs": [
    {
     "name": "stdout",
     "output_type": "stream",
     "text": [
      "1010\n"
     ]
    }
   ],
   "source": [
    "#FINAL\n",
    "def decimalToBinary(n):\n",
    "    #Constraints\n",
    "    assert int(n) == n , 'The parameter must be integer only'\n",
    "    #Base Case\n",
    "    if n == 0:\n",
    "        return 0\n",
    "    #Recursive Case\n",
    "    else:\n",
    "        return (n % 2) + 10 * decimalToBinary(int(n/2))\n",
    "    \n",
    "print(decimalToBinary(10))"
   ]
  },
  {
   "cell_type": "code",
   "execution_count": 104,
   "id": "9766222c",
   "metadata": {},
   "outputs": [
    {
     "ename": "AssertionError",
     "evalue": "The parameter must be integer only",
     "output_type": "error",
     "traceback": [
      "\u001b[1;31m---------------------------------------------------------------------------\u001b[0m",
      "\u001b[1;31mAssertionError\u001b[0m                            Traceback (most recent call last)",
      "\u001b[1;32m~\\AppData\\Local\\Temp/ipykernel_6096/3997698947.py\u001b[0m in \u001b[0;36m<module>\u001b[1;34m\u001b[0m\n\u001b[1;32m----> 1\u001b[1;33m \u001b[0mprint\u001b[0m\u001b[1;33m(\u001b[0m\u001b[0mdecimalToBinary\u001b[0m\u001b[1;33m(\u001b[0m\u001b[1;36m10.2\u001b[0m\u001b[1;33m)\u001b[0m\u001b[1;33m)\u001b[0m\u001b[1;33m\u001b[0m\u001b[1;33m\u001b[0m\u001b[0m\n\u001b[0m",
      "\u001b[1;32m~\\AppData\\Local\\Temp/ipykernel_6096/3526764923.py\u001b[0m in \u001b[0;36mdecimalToBinary\u001b[1;34m(n)\u001b[0m\n\u001b[0;32m      2\u001b[0m \u001b[1;32mdef\u001b[0m \u001b[0mdecimalToBinary\u001b[0m\u001b[1;33m(\u001b[0m\u001b[0mn\u001b[0m\u001b[1;33m)\u001b[0m\u001b[1;33m:\u001b[0m\u001b[1;33m\u001b[0m\u001b[1;33m\u001b[0m\u001b[0m\n\u001b[0;32m      3\u001b[0m     \u001b[1;31m#Constraints\u001b[0m\u001b[1;33m\u001b[0m\u001b[1;33m\u001b[0m\u001b[1;33m\u001b[0m\u001b[0m\n\u001b[1;32m----> 4\u001b[1;33m     \u001b[1;32massert\u001b[0m \u001b[0mint\u001b[0m\u001b[1;33m(\u001b[0m\u001b[0mn\u001b[0m\u001b[1;33m)\u001b[0m \u001b[1;33m==\u001b[0m \u001b[0mn\u001b[0m \u001b[1;33m,\u001b[0m \u001b[1;34m'The parameter must be integer only'\u001b[0m\u001b[1;33m\u001b[0m\u001b[1;33m\u001b[0m\u001b[0m\n\u001b[0m\u001b[0;32m      5\u001b[0m     \u001b[1;31m#Base Case\u001b[0m\u001b[1;33m\u001b[0m\u001b[1;33m\u001b[0m\u001b[1;33m\u001b[0m\u001b[0m\n\u001b[0;32m      6\u001b[0m     \u001b[1;32mif\u001b[0m \u001b[0mn\u001b[0m \u001b[1;33m==\u001b[0m \u001b[1;36m0\u001b[0m\u001b[1;33m:\u001b[0m\u001b[1;33m\u001b[0m\u001b[1;33m\u001b[0m\u001b[0m\n",
      "\u001b[1;31mAssertionError\u001b[0m: The parameter must be integer only"
     ]
    }
   ],
   "source": [
    "print(decimalToBinary(10.2))  #It works!"
   ]
  },
  {
   "cell_type": "markdown",
   "id": "c84fb54a",
   "metadata": {},
   "source": [
    "---\n",
    "## Thanks\n",
    "----"
   ]
  }
 ],
 "metadata": {
  "kernelspec": {
   "display_name": "Python 3 (ipykernel)",
   "language": "python",
   "name": "python3"
  },
  "language_info": {
   "codemirror_mode": {
    "name": "ipython",
    "version": 3
   },
   "file_extension": ".py",
   "mimetype": "text/x-python",
   "name": "python",
   "nbconvert_exporter": "python",
   "pygments_lexer": "ipython3",
   "version": "3.8.12"
  }
 },
 "nbformat": 4,
 "nbformat_minor": 5
}
